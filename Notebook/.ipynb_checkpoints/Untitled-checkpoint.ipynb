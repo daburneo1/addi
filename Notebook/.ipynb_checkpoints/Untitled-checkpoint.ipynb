{
 "cells": [
  {
   "cell_type": "code",
   "execution_count": 2,
   "id": "289aa9fe",
   "metadata": {},
   "outputs": [
    {
     "name": "stdout",
     "output_type": "stream",
     "text": [
      "PROGRAMADOR INICIADO: 1640573980\n",
      "TIEMPO: 1640573981\n",
      "Abriendo compuertas...\n",
      "TIEMPO: 1640573985\n",
      "Cerrando compuertas...\n",
      "PROGRAMADOR FINALIZADO: 1640573985\n"
     ]
    },
    {
     "data": {
      "text/plain": [
       "'\\nSalida:\\n\\nPROGRAMADOR INICIADO: 1489659568\\nTIEMPO: 1489659569\\nAbriendo compuertas...\\nTIEMPO: 1489659573\\nCerrando compuertas...\\nPROGRAMADOR FINALIZADO: 1489659573\\n'"
      ]
     },
     "execution_count": 2,
     "metadata": {},
     "output_type": "execute_result"
    }
   ],
   "source": [
    "import sched\n",
    "import time\n",
    "\n",
    "# Función que es llamada por los eventos\n",
    "def abrir_cerrar(estado):\n",
    "    print('TIEMPO:', int(time.time()))\n",
    "    if estado:\n",
    "        print(\"Abriendo compuertas...\")\n",
    "    else:\n",
    "        print(\"Cerrando compuertas...\")\n",
    "\n",
    "# Declarar el programador\n",
    "programador = sched.scheduler(time.time, time.sleep)\n",
    "\n",
    "# Asignar el tiempo de comienzo (en segundos)\n",
    "comienzo = int(time.time())\n",
    "t1 = comienzo + 1   # Tiempo para abrir compuertas (1\")\n",
    "t2 = t1 + 4         # Tiempo para cerrar compuertas (5\")\n",
    "print('PROGRAMADOR INICIADO:', comienzo)\n",
    "\n",
    "# Definir los dos eventos indicando: momento de ejecución, \n",
    "# prioridad, función a la que se llama y el valor que se\n",
    "# pasa al argumento de la función:\n",
    "programador.enterabs(t1, 1, abrir_cerrar, (1,))\n",
    "programador.enterabs(t2, 1, abrir_cerrar, (0,))\n",
    "\n",
    "# Poner en marcha el programador.\n",
    "# El programa permanece a la espera hasta que se\n",
    "# ejecuten los dos eventos. La ejecución se producirá\n",
    "# cuando se alcance el momento definido.\n",
    "programador.run()\n",
    "print('PROGRAMADOR FINALIZADO:', int(time.time()))\n",
    "\n",
    "'''\n",
    "Salida:\n",
    "\n",
    "PROGRAMADOR INICIADO: 1489659568\n",
    "TIEMPO: 1489659569\n",
    "Abriendo compuertas...\n",
    "TIEMPO: 1489659573\n",
    "Cerrando compuertas...\n",
    "PROGRAMADOR FINALIZADO: 1489659573\n",
    "'''"
   ]
  },
  {
   "cell_type": "code",
   "execution_count": 80,
   "id": "8e05af76",
   "metadata": {},
   "outputs": [
    {
     "name": "stdout",
     "output_type": "stream",
     "text": [
      "2021-12-26\n",
      "23:09\n",
      "Paracetamol 500mg\n",
      "Recordatorio en 5 minutos\n"
     ]
    },
    {
     "ename": "KeyboardInterrupt",
     "evalue": "Interrupted by user",
     "output_type": "error",
     "traceback": [
      "\u001b[1;31m---------------------------------------------------------------------------\u001b[0m",
      "\u001b[1;31mKeyboardInterrupt\u001b[0m                         Traceback (most recent call last)",
      "\u001b[1;32m<ipython-input-80-74adf60055ea>\u001b[0m in \u001b[0;36m<module>\u001b[1;34m\u001b[0m\n\u001b[0;32m     30\u001b[0m         \u001b[1;32mwhile\u001b[0m\u001b[1;33m(\u001b[0m\u001b[1;32mTrue\u001b[0m\u001b[1;33m)\u001b[0m\u001b[1;33m:\u001b[0m\u001b[1;33m\u001b[0m\u001b[1;33m\u001b[0m\u001b[0m\n\u001b[0;32m     31\u001b[0m             \u001b[0mprint\u001b[0m\u001b[1;33m(\u001b[0m\u001b[1;34m'Paracetamol 500mg'\u001b[0m\u001b[1;33m)\u001b[0m\u001b[1;33m\u001b[0m\u001b[1;33m\u001b[0m\u001b[0m\n\u001b[1;32m---> 32\u001b[1;33m             \u001b[0mrespuesta\u001b[0m \u001b[1;33m=\u001b[0m \u001b[0mverificar\u001b[0m\u001b[1;33m(\u001b[0m\u001b[0ma\u001b[0m\u001b[1;33m)\u001b[0m\u001b[1;33m\u001b[0m\u001b[1;33m\u001b[0m\u001b[0m\n\u001b[0m\u001b[0;32m     33\u001b[0m             \u001b[1;32mif\u001b[0m \u001b[0mrespuesta\u001b[0m \u001b[1;33m==\u001b[0m \u001b[1;32mTrue\u001b[0m\u001b[1;33m:\u001b[0m\u001b[1;33m\u001b[0m\u001b[1;33m\u001b[0m\u001b[0m\n\u001b[0;32m     34\u001b[0m                 \u001b[1;32mbreak\u001b[0m\u001b[1;33m\u001b[0m\u001b[1;33m\u001b[0m\u001b[0m\n",
      "\u001b[1;32m<ipython-input-80-74adf60055ea>\u001b[0m in \u001b[0;36mverificar\u001b[1;34m(a)\u001b[0m\n\u001b[0;32m     17\u001b[0m     \u001b[0mprompt\u001b[0m \u001b[1;33m=\u001b[0m \u001b[1;34m'Presiona 1 si ya tomaste la pastilla'\u001b[0m\u001b[1;33m\u001b[0m\u001b[1;33m\u001b[0m\u001b[0m\n\u001b[0;32m     18\u001b[0m     \u001b[0mrespuesta\u001b[0m \u001b[1;33m=\u001b[0m \u001b[1;36m2\u001b[0m\u001b[1;33m\u001b[0m\u001b[1;33m\u001b[0m\u001b[0m\n\u001b[1;32m---> 19\u001b[1;33m     \u001b[0mrespuesta\u001b[0m \u001b[1;33m=\u001b[0m \u001b[0minput\u001b[0m\u001b[1;33m(\u001b[0m\u001b[0mprompt\u001b[0m\u001b[1;33m)\u001b[0m\u001b[1;33m\u001b[0m\u001b[1;33m\u001b[0m\u001b[0m\n\u001b[0m\u001b[0;32m     20\u001b[0m     \u001b[0mt\u001b[0m\u001b[1;33m.\u001b[0m\u001b[0mcancel\u001b[0m\u001b[1;33m(\u001b[0m\u001b[1;33m)\u001b[0m\u001b[1;33m\u001b[0m\u001b[1;33m\u001b[0m\u001b[0m\n\u001b[0;32m     21\u001b[0m     \u001b[1;32mif\u001b[0m\u001b[1;33m(\u001b[0m\u001b[0mrespuesta\u001b[0m \u001b[1;33m==\u001b[0m \u001b[1;34m'1'\u001b[0m\u001b[1;33m)\u001b[0m\u001b[1;33m:\u001b[0m\u001b[1;33m\u001b[0m\u001b[1;33m\u001b[0m\u001b[0m\n",
      "\u001b[1;32mc:\\users\\davicho\\appdata\\local\\programs\\python\\python37\\lib\\site-packages\\ipykernel\\kernelbase.py\u001b[0m in \u001b[0;36mraw_input\u001b[1;34m(self, prompt)\u001b[0m\n\u001b[0;32m    849\u001b[0m             \u001b[0mself\u001b[0m\u001b[1;33m.\u001b[0m\u001b[0m_parent_ident\u001b[0m\u001b[1;33m,\u001b[0m\u001b[1;33m\u001b[0m\u001b[1;33m\u001b[0m\u001b[0m\n\u001b[0;32m    850\u001b[0m             \u001b[0mself\u001b[0m\u001b[1;33m.\u001b[0m\u001b[0m_parent_header\u001b[0m\u001b[1;33m,\u001b[0m\u001b[1;33m\u001b[0m\u001b[1;33m\u001b[0m\u001b[0m\n\u001b[1;32m--> 851\u001b[1;33m             \u001b[0mpassword\u001b[0m\u001b[1;33m=\u001b[0m\u001b[1;32mFalse\u001b[0m\u001b[1;33m,\u001b[0m\u001b[1;33m\u001b[0m\u001b[1;33m\u001b[0m\u001b[0m\n\u001b[0m\u001b[0;32m    852\u001b[0m         )\n\u001b[0;32m    853\u001b[0m \u001b[1;33m\u001b[0m\u001b[0m\n",
      "\u001b[1;32mc:\\users\\davicho\\appdata\\local\\programs\\python\\python37\\lib\\site-packages\\ipykernel\\kernelbase.py\u001b[0m in \u001b[0;36m_input_request\u001b[1;34m(self, prompt, ident, parent, password)\u001b[0m\n\u001b[0;32m    890\u001b[0m             \u001b[1;32mexcept\u001b[0m \u001b[0mKeyboardInterrupt\u001b[0m\u001b[1;33m:\u001b[0m\u001b[1;33m\u001b[0m\u001b[1;33m\u001b[0m\u001b[0m\n\u001b[0;32m    891\u001b[0m                 \u001b[1;31m# re-raise KeyboardInterrupt, to truncate traceback\u001b[0m\u001b[1;33m\u001b[0m\u001b[1;33m\u001b[0m\u001b[1;33m\u001b[0m\u001b[0m\n\u001b[1;32m--> 892\u001b[1;33m                 \u001b[1;32mraise\u001b[0m \u001b[0mKeyboardInterrupt\u001b[0m\u001b[1;33m(\u001b[0m\u001b[1;34m\"Interrupted by user\"\u001b[0m\u001b[1;33m)\u001b[0m \u001b[1;32mfrom\u001b[0m \u001b[1;32mNone\u001b[0m\u001b[1;33m\u001b[0m\u001b[1;33m\u001b[0m\u001b[0m\n\u001b[0m\u001b[0;32m    893\u001b[0m             \u001b[1;32mexcept\u001b[0m \u001b[0mException\u001b[0m \u001b[1;32mas\u001b[0m \u001b[0me\u001b[0m\u001b[1;33m:\u001b[0m\u001b[1;33m\u001b[0m\u001b[1;33m\u001b[0m\u001b[0m\n\u001b[0;32m    894\u001b[0m                 \u001b[0mself\u001b[0m\u001b[1;33m.\u001b[0m\u001b[0mlog\u001b[0m\u001b[1;33m.\u001b[0m\u001b[0mwarning\u001b[0m\u001b[1;33m(\u001b[0m\u001b[1;34m\"Invalid Message:\"\u001b[0m\u001b[1;33m,\u001b[0m \u001b[0mexc_info\u001b[0m\u001b[1;33m=\u001b[0m\u001b[1;32mTrue\u001b[0m\u001b[1;33m)\u001b[0m\u001b[1;33m\u001b[0m\u001b[1;33m\u001b[0m\u001b[0m\n",
      "\u001b[1;31mKeyboardInterrupt\u001b[0m: Interrupted by user"
     ]
    }
   ],
   "source": [
    "import sched\n",
    "import time\n",
    "import random\n",
    "import msvcrt\n",
    "from datetime import datetime\n",
    "from threading import Timer\n",
    "\n",
    "fecha_actual = time.strftime('%Y-%m-%d', time.localtime())\n",
    "hora_actual = time.strftime('%H:%M', time.localtime())\n",
    "print(fecha_actual)\n",
    "print(hora_actual)\n",
    "\n",
    "def verificar(a):\n",
    "    timeout = 4\n",
    "    t = Timer(timeout, print, ['Recordatorio en 5 minutos'])\n",
    "    t.start()\n",
    "    prompt = 'Presiona 1 si ya tomaste la pastilla'\n",
    "    respuesta = 2\n",
    "    respuesta = input(prompt)\n",
    "    t.cancel()\n",
    "    if(respuesta == '1'):\n",
    "        return True\n",
    "        t.cancel()\n",
    "    else:\n",
    "        print('false')\n",
    "        return False\n",
    "\n",
    "if(fecha_actual < '2021-12-27'): # Compara con la fecha limite ingresada por el usuario\n",
    "    if(hora_actual != '22:24'): #Compara con la hora actual\n",
    "        while(True):    \n",
    "            print('Paracetamol 500mg')\n",
    "            respuesta = verificar(a)\n",
    "            if respuesta == True:\n",
    "                break\n",
    "            else:\n",
    "                time.sleep(2)"
   ]
  },
  {
   "cell_type": "code",
   "execution_count": 13,
   "id": "2d7ea6a0",
   "metadata": {},
   "outputs": [],
   "source": [
    "from threading import Thread, enumerate, Event\n",
    "from queue import Queue, Empty\n",
    "import time\n",
    "\n",
    "\n",
    "SENTINEL = None\n",
    "\n",
    "\n",
    "class PromptManager(Thread):\n",
    "\n",
    "    def __init__(self, timeout):\n",
    "        super().__init__()\n",
    "        self.timeout = timeout\n",
    "        self._in_queue = Queue()\n",
    "        self._out_queue = Queue()\n",
    "        self.prompter = Thread(target=self._prompter, daemon=True)\n",
    "        self._prompter_exit = Event()\n",
    "\n",
    "    def run(self):\n",
    "        \"\"\"Run worker-thread. Start prompt-thread, fetch passed\n",
    "        input from in_queue and forward it to `._poll()` in MainThread.\n",
    "        If timeout occurs before user-input, enqueue SENTINEL to\n",
    "        unblock `.get()` in `._poll()`.\n",
    "        \"\"\"\n",
    "        self.prompter.start()\n",
    "        try:\n",
    "            txt = self._in_queue.get(timeout=self.timeout)\n",
    "        except Empty:\n",
    "            self._out_queue.put(SENTINEL)\n",
    "            print(f\"\\n[{time.ctime()}] Please press Enter to continue.\")\n",
    "            # without usage of _prompter_exit() and Enter, the\n",
    "            # prompt-thread would stay alive until the whole program ends\n",
    "            self._prompter_exit.wait()\n",
    "        else:\n",
    "            self._out_queue.put(txt)\n",
    "\n",
    "    def start(self):\n",
    "        \"\"\"Start manager-thread.\"\"\"\n",
    "        super().start()\n",
    "        return self._poll()\n",
    "\n",
    "    def _prompter(self):\n",
    "        \"\"\"Prompting target function for execution in prompter-thread.\"\"\"\n",
    "        self._in_queue.put(input(f\"[{time.ctime()}] >$ \"))\n",
    "        self._prompter_exit.set()\n",
    "\n",
    "    def _poll(self):\n",
    "        \"\"\"Get forwarded inputs from the manager-thread executing `run()`\n",
    "        and process them in the parent-thread.\n",
    "        \"\"\"\n",
    "        msg =  self._out_queue.get()\n",
    "        self.join()\n",
    "        return msg"
   ]
  },
  {
   "cell_type": "code",
   "execution_count": 18,
   "id": "57eeffbf",
   "metadata": {},
   "outputs": [
    {
     "name": "stdout",
     "output_type": "stream",
     "text": [
      "[Sun Dec 26 23:42:27 2021] >$ \n",
      "\n",
      "[Sun Dec 26 23:42:32 2021] Please press Enter to continue.\n",
      "User input: None\n",
      "[Sun Dec 26 23:42:32 2021] Do something else. Alive threads:['MainThread', 'Thread-4', 'Thread-5', 'IPythonHistorySavingThread', 'Thread-3']\n",
      "[Sun Dec 26 23:42:33 2021] Do something else. Alive threads:['MainThread', 'Thread-4', 'Thread-5', 'IPythonHistorySavingThread', 'Thread-3']\n",
      "[Sun Dec 26 23:42:34 2021] Do something else. Alive threads:['MainThread', 'Thread-4', 'Thread-5', 'IPythonHistorySavingThread', 'Thread-3']\n"
     ]
    }
   ],
   "source": [
    "if __name__ == '__main__':\n",
    "\n",
    "    pm = PromptManager(timeout=5)\n",
    "    msg = pm.start()\n",
    "    print(f\"User input: {msg}\")\n",
    "\n",
    "    for i in range(3):\n",
    "        print(f\"[{time.ctime()}] Do something else. \"\n",
    "              f\"Alive threads:{[t.name for t in enumerate()]}\")\n",
    "        time.sleep(1)"
   ]
  },
  {
   "cell_type": "code",
   "execution_count": 16,
   "id": "455a05e9",
   "metadata": {},
   "outputs": [
    {
     "name": "stdout",
     "output_type": "stream",
     "text": [
      "Hello, you can type and press enter to change 'ans' variable value or wait 5 seconds and the program will continue\n",
      "[Sun Dec 26 23:40:31 2021] >$ \n",
      "\n",
      "[Sun Dec 26 23:40:36 2021] Please press Enter to continue.\n",
      "Success, if you didn't just cheat by writing mustnotchange\n"
     ]
    }
   ],
   "source": [
    "from threading import Thread, enumerate, Event\n",
    "from queue import Queue, Empty\n",
    "import time\n",
    "from pynput.keyboard import Key, Controller\n",
    "\n",
    "\n",
    "SENTINEL = None\n",
    "\n",
    "\n",
    "class PromptManager(Thread):\n",
    "\n",
    "    def __init__(self, timeout):\n",
    "        super().__init__()\n",
    "        self.timeout = timeout\n",
    "        self._in_queue = Queue()\n",
    "        self._out_queue = Queue()\n",
    "        self.prompter = Thread(target=self._prompter, daemon=True)\n",
    "        self._prompter_exit = Event()\n",
    "\n",
    "    def run(self):\n",
    "        \"\"\"Run worker-thread. Start prompt-thread, fetch passed\n",
    "        input from in_queue and forward it to `._poll()` in MainThread.\n",
    "        If timeout occurs before user-input, enqueue SENTINEL to\n",
    "        unblock `.get()` in `._poll()`.\n",
    "        \"\"\"\n",
    "        self.prompter.start()\n",
    "        try:\n",
    "            txt = self._in_queue.get(timeout=self.timeout)\n",
    "        except Empty:\n",
    "            self._out_queue.put(SENTINEL)\n",
    "            print(f\"\\n[{time.ctime()}] Please press Enter to continue.\")\n",
    "            # without usage of _prompter_exit() and Enter, the\n",
    "            # prompt-thread would stay alive until the whole program ends\n",
    "            keyboard = Controller()\n",
    "            keyboard.press(Key.enter)\n",
    "            keyboard.release(Key.enter)\n",
    "            self._prompter_exit.wait()\n",
    "\n",
    "        else:\n",
    "            self._out_queue.put(txt)\n",
    "\n",
    "    def start(self):\n",
    "        \"\"\"Start manager-thread.\"\"\"\n",
    "        super().start()\n",
    "        return self._poll()\n",
    "\n",
    "    def _prompter(self):\n",
    "        \"\"\"Prompting target function for execution in prompter-thread.\"\"\"\n",
    "        self._in_queue.put(input(f\"[{time.ctime()}] >$ \"))\n",
    "        self._prompter_exit.set()\n",
    "\n",
    "    def _poll(self):\n",
    "        \"\"\"Get forwarded inputs from the manager-thread executing `run()`\n",
    "        and process them in the parent-thread.\n",
    "        \"\"\"\n",
    "        msg =  self._out_queue.get()\n",
    "        self.join()\n",
    "        return msg\n",
    "\n",
    "\n",
    "\n",
    "def input_with_timeout(default, timeout):\n",
    "\n",
    "    print (\"Hello, you can type and press enter to change 'ans' variable value or wait \"+str(timeout)+\" seconds and the program will continue\")   \n",
    "    pm = PromptManager(timeout)\n",
    "    ans= pm.start()\n",
    "    if isinstance(ans, str):\n",
    "        print(\"ok\")\n",
    "        return ans\n",
    "    else:\n",
    "        return default\n",
    "\n",
    "\n",
    "\n",
    "s=\"mustnotchange\"\n",
    "\n",
    "s=input_with_timeout(s,5)\n",
    "\n",
    "if s==\"mustnotchange\":\n",
    "    print(\"Success, if you didn't just cheat by writing mustnotchange\")\n",
    "else:\n",
    "    print(\"you answered : \"+s+\" variable value has changed\")\n",
    "\n",
    "time.sleep(5)"
   ]
  },
  {
   "cell_type": "code",
   "execution_count": 37,
   "id": "d480b8ae",
   "metadata": {},
   "outputs": [
    {
     "ename": "SyntaxError",
     "evalue": "'break' outside loop (<ipython-input-37-b0b47581fe02>, line 11)",
     "output_type": "error",
     "traceback": [
      "\u001b[1;36m  File \u001b[1;32m\"<ipython-input-37-b0b47581fe02>\"\u001b[1;36m, line \u001b[1;32m11\u001b[0m\n\u001b[1;31mSyntaxError\u001b[0m\u001b[1;31m:\u001b[0m 'break' outside loop\n"
     ]
    }
   ],
   "source": [
    "from func_timeout import FunctionTimedOut, func_timeout\n",
    "\n",
    "try:\n",
    "    ans = func_timeout(5, lambda: int(input('What is the sum of 2 and 3?\\n')))\n",
    "    print(ans)\n",
    "except FunctionTimedOut:\n",
    "    print(5)"
   ]
  },
  {
   "cell_type": "code",
   "execution_count": 40,
   "id": "400012a6",
   "metadata": {},
   "outputs": [
    {
     "ename": "SyntaxError",
     "evalue": "invalid syntax (<ipython-input-40-47de8979791c>, line 6)",
     "output_type": "error",
     "traceback": [
      "\u001b[1;36m  File \u001b[1;32m\"<ipython-input-40-47de8979791c>\"\u001b[1;36m, line \u001b[1;32m6\u001b[0m\n\u001b[1;33m    if (inp := input(f\"Enter something (you have {timeout} seconds): \", timeout)) is not None:\u001b[0m\n\u001b[1;37m            ^\u001b[0m\n\u001b[1;31mSyntaxError\u001b[0m\u001b[1;31m:\u001b[0m invalid syntax\n"
     ]
    }
   ],
   "source": [
    "import time\n",
    "\n",
    "if __name__ == '__main__':\n",
    "    timeout = 2\n",
    "    start_t = time.monotonic()\n",
    "    if (inp := input(f\"Enter something (you have {timeout} seconds): \", timeout)) is not None:\n",
    "        print(\"Received some input:\", repr(inp))\n",
    "    else:\n",
    "        end_t = time.monotonic()\n",
    "        print(f\"Timed out after {end_t - start_t} seconds\")\n",
    "\n",
    "    inp = input(\"Enter something else (I'll wait this time): \")\n",
    "    print(\"Received some input:\", repr(inp))\n",
    "    \n",
    "    input(f\"Last chance to say something (you have {timeout} seconds): \", timeout)"
   ]
  }
 ],
 "metadata": {
  "kernelspec": {
   "display_name": "Python 3",
   "language": "python",
   "name": "python3"
  },
  "language_info": {
   "codemirror_mode": {
    "name": "ipython",
    "version": 3
   },
   "file_extension": ".py",
   "mimetype": "text/x-python",
   "name": "python",
   "nbconvert_exporter": "python",
   "pygments_lexer": "ipython3",
   "version": "3.7.9"
  }
 },
 "nbformat": 4,
 "nbformat_minor": 5
}
